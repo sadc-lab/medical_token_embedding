{
 "cells": [
  {
   "cell_type": "markdown",
   "id": "76c77dda",
   "metadata": {},
   "source": [
    "### For this notebook, you should use the custom version of transformers (see `Readme.md` for how to install the environment)\n",
    "\n",
    "This notebook contains a ready for use code to train CamemBERT-bio + LESA on your own medical dataset. \n",
    "It only requires your dataset to be a list of samples: `{'tokens': [`$w_1, w_2, \\cdots, w_n$`], 'classes': int list}`\n",
    "\n",
    "In order to properly break the text into words, use the tools in the utils directory"
   ]
  },
  {
   "cell_type": "code",
   "execution_count": 1,
   "id": "4c65f6bf",
   "metadata": {},
   "outputs": [
    {
     "name": "stderr",
     "output_type": "stream",
     "text": [
      "/home/lomboa00/.conda/envs/lesa_venv/lib/python3.11/site-packages/tqdm/auto.py:21: TqdmWarning: IProgress not found. Please update jupyter and ipywidgets. See https://ipywidgets.readthedocs.io/en/stable/user_install.html\n",
      "  from .autonotebook import tqdm as notebook_tqdm\n"
     ]
    }
   ],
   "source": [
    "import functools\n",
    "import torch\n",
    "from torch.utils.data import Dataset, DataLoader, Subset\n",
    "import torch.nn.functional as F\n",
    "import pytorch_lightning as pl\n",
    "from transformers import CamembertForTokenClassification_label, CamembertForMaskedLM_label, AutoTokenizer, AutoConfig\n",
    "from datasets import load_dataset\n",
    "from sklearn.metrics import confusion_matrix\n",
    "import os\n",
    "import pandas as pd\n",
    "import matplotlib.pyplot as plt\n",
    "from tqdm.notebook import tqdm\n",
    "import seaborn as sns\n",
    "import numpy as np\n",
    "import pickle\n",
    "from utils import stats, decode_properly, custom_f1_score"
   ]
  },
  {
   "cell_type": "code",
   "execution_count": 2,
   "id": "ab7d7f69",
   "metadata": {
    "tags": []
   },
   "outputs": [],
   "source": [
    "class CustomizedDataset(Dataset):\n",
    "    def __init__(self, dataset_list):\n",
    "        self.files = dataset_list\n",
    "        \n",
    "    def __len__(self):\n",
    "        return len(self.files)\n",
    "\n",
    "    def __getitem__(self, idx):\n",
    "        return self.files[idx]"
   ]
  },
  {
   "cell_type": "markdown",
   "id": "5bdcb681-da7a-4c4d-894f-d6e272c63040",
   "metadata": {},
   "source": [
    "# Wrapping the model with Pythorch Lightning for a better data tracking while training"
   ]
  },
  {
   "cell_type": "code",
   "execution_count": 3,
   "id": "2df9086a",
   "metadata": {
    "tags": []
   },
   "outputs": [],
   "source": [
    "class LightningModel(pl.LightningModule):\n",
    "    def __init__(self, model_name, optim, lr, weight_decay, T_0=None):\n",
    "        super().__init__()\n",
    "        self.save_hyperparameters('model_name', 'optim', 'lr', 'weight_decay', 'T_0') \n",
    "        self.optim = optim   \n",
    "        self.lr = lr\n",
    "        self.weight_decay = weight_decay\n",
    "        self.T_0 = T_0\n",
    "        self.name = model_name\n",
    "        if self.name == 'LESA_BertForMaskedLM':\n",
    "            self.model = CamembertForMaskedLM_label.from_pretrained('almanach/camembert-bio-base')\n",
    "            self.num_labels = self.model.lm_head.decoder.out_features\n",
    "        elif self.name == 'LESA_BertForTokClassif':\n",
    "            self.model = CamembertForTokenClassification_label.from_pretrained('almanach/camembert-bio-base')\n",
    "            self.num_labels = self.model.num_labels\n",
    "        else:\n",
    "            raise ValueError('model name:' + model_name + 'is unknown')\n",
    "        \n",
    "    def forward(self, batch):\n",
    "        return self.model(\n",
    "                input_ids=batch[\"input_ids\"],\n",
    "                label_inputs = batch[\"label_inputs\"],\n",
    "                attention_mask=batch[\"attention_mask\"]\n",
    "        )\n",
    "        \n",
    "    def training_step(self, batch):\n",
    "        out = self.forward(batch)\n",
    "\n",
    "        logits = out.logits\n",
    "        loss_fn = torch.nn.CrossEntropyLoss()    \n",
    "        loss = loss_fn(logits.view(-1, self.num_labels), batch[\"labels\"].view(-1))\n",
    "\n",
    "        self.log(\"train/loss\", loss, prog_bar=True, on_step=False, on_epoch=True)\n",
    "        return loss\n",
    "\n",
    "    def validation_step(self, batch, batch_index):\n",
    "        out = self.forward(batch)\n",
    "        preds = torch.max(out.logits, -1).indices\n",
    "        \n",
    "        if self.name == 'LESA_BertForTokClassif':\n",
    "            f1 = custom_f1_score(batch[\"labels\"].view(-1).cpu().numpy(), preds.view(-1).cpu().numpy(),\n",
    "                 self.num_labels, average = \"macro\")\n",
    "            self.log(\"valid/f1\", f1, prog_bar=True, on_step=False, on_epoch=True)\n",
    "            \n",
    "        else:\n",
    "            y_true = torch.where(batch[\"labels\"].view(-1)==tokenizer.pad_token_id, -1, batch[\"labels\"].view(-1))\n",
    "            acc = (y_true==preds.view(-1)).sum()/(y_true >= 0).sum()\n",
    "            self.log(\"valid/acc\", acc, prog_bar=True, on_step=False, on_epoch=True)\n",
    "            \n",
    "    def predict_step(self, batch, batch_idx):\n",
    "        out = self.forward(batch)\n",
    "\n",
    "        return torch.max(out.logits, -1).indices\n",
    "\n",
    "    def configure_optimizers(self):\n",
    "        if self.optim == 'AdamW':\n",
    "            optimizer = torch.optim.AdamW(\n",
    "                            self.model.parameters(), lr=self.lr, weight_decay=self.weight_decay\n",
    "                        )\n",
    "        elif self.optim == 'SGD':\n",
    "            optimizer = torch.optim.SGD(\n",
    "                            self.model.parameters(), lr=self.lr, weight_decay=self.weight_decay\n",
    "                        )\n",
    "        else:\n",
    "            raise ValueError('Optim name: ' + self.optim + ' is unknown')\n",
    "        \n",
    "        if self.T_0 is None:\n",
    "            return optimizer\n",
    "        else:\n",
    "            scheduler = torch.optim.lr_scheduler.CosineAnnealingWarmRestarts(optimizer, self.T_0)\n",
    "            return [optimizer], [scheduler]"
   ]
  },
  {
   "cell_type": "markdown",
   "id": "47fe72bf",
   "metadata": {},
   "source": [
    "## Setting up the label related keywords"
   ]
  },
  {
   "cell_type": "code",
   "execution_count": 4,
   "id": "54b7db95",
   "metadata": {
    "tags": []
   },
   "outputs": [],
   "source": [
    "#key words for the sequence classification task\n",
    "key_words = np.array([['mot', 'patient', 'général'],\n",
    "                      ['FE', 'FR', 'systolique'],\n",
    "                      ['cardiaque', 'FC', 'fréquence'],\n",
    "                      ['diamètre', 'pulmonaire', 'APP'], \n",
    "                      ['pulsée', 'O2', 'sat'],\n",
    "                      ['APGAR', 'Naissance', 'terme'],\n",
    "                      ['gradient', 'pulmonaire', 'ventricule'],\n",
    "                      ['CIA', 'CIV', 'inlet']\n",
    "                     ])\n",
    "num_labels = 8 #['O', 'Cp', 'FC', 'D', 'SO2', 'AGPR', 'G', 'CI']\n",
    "num_words_per_label = 3\n",
    "label_inputs = torch.zeros((num_labels, num_words_per_label), dtype = int)"
   ]
  },
  {
   "cell_type": "markdown",
   "id": "db379986-09d8-4112-a856-8cb2b0ee5357",
   "metadata": {},
   "source": [
    "#### If this cell fails to run, please make sure to properly download camembert-bio-base according to your own setup. The model is available on [Huggingface](https://huggingface.co/almanach/camembert-bio-base)"
   ]
  },
  {
   "cell_type": "code",
   "execution_count": null,
   "id": "690c004b",
   "metadata": {},
   "outputs": [],
   "source": [
    "tokenizer = AutoTokenizer.from_pretrained('almanach/camembert-bio-base')\n",
    "config = AutoConfig.from_pretrained('almanach/camembert-bio-base', num_labels=nb_labels)"
   ]
  },
  {
   "cell_type": "code",
   "execution_count": null,
   "id": "ce1ad2d4",
   "metadata": {},
   "outputs": [],
   "source": [
    "for label in range(num_labels):\n",
    "    for i in range(num_words_per_label):\n",
    "        label_inputs[label, i] = tokenizer.encode(key_words[label, i],\n",
    "                   add_special_tokens = False)[0]"
   ]
  },
  {
   "cell_type": "markdown",
   "id": "5b6d681b",
   "metadata": {},
   "source": [
    "# 1. Training LESABert for Token Classification\n",
    "\n",
    "In the following cells we can either load the normal dataset (`test`, `val`, `train`) or the blinded dataset (`blind_test`, `blind_val`, `blind_train`)\n",
    "\n",
    "The first option results in Model 1, and the second option results in Model 2 (see [paper](https://arxiv.org/abs/2404.10171) for more information)"
   ]
  },
  {
   "cell_type": "markdown",
   "id": "865d60a5-f120-433e-8d6c-1675fcf659c9",
   "metadata": {},
   "source": [
    "## 1.1 Preparation steps"
   ]
  },
  {
   "cell_type": "code",
   "execution_count": 12,
   "id": "afe27130-219f-471d-9b1c-49f3f5428525",
   "metadata": {
    "tags": []
   },
   "outputs": [],
   "source": [
    "#\"\"\"\n",
    "with open(\"../sadcsip/blind_test\", \"rb\") as fp:   # Unpickling\n",
    "   test_ds = pickle.load(fp)\n",
    "\n",
    "with open(\"../sadcsip/blind_val\", \"rb\") as fp:   # Unpickling\n",
    "   val_ds = pickle.load(fp)\n",
    "with open(\"../sadcsip/blind_train\", \"rb\") as fp:   # Unpickling\n",
    "   train_ds = pickle.load(fp)\n",
    "#\"\"\""
   ]
  },
  {
   "cell_type": "code",
   "execution_count": null,
   "id": "e24d8cb6",
   "metadata": {},
   "outputs": [],
   "source": [
    "\"\"\"\n",
    "with open(\"../sadcsip/test\", \"rb\") as fp:   # Unpickling\n",
    "   test_ds = pickle.load(fp)\n",
    "\n",
    "with open(\"../sadcsip/val\", \"rb\") as fp:   # Unpickling\n",
    "   val_ds = pickle.load(fp)\n",
    "with open(\"../sadcsip/train\", \"rb\") as fp:   # Unpickling\n",
    "   train_ds = pickle.load(fp)\n",
    "\"\"\""
   ]
  },
  {
   "cell_type": "code",
   "execution_count": null,
   "id": "ced1de39",
   "metadata": {},
   "outputs": [],
   "source": [
    "test_ds = CustomizedDataset(test_ds)\n",
    "val_ds = CustomizedDataset(val_ds)\n",
    "train_ds = CustomizedDataset(train_ds)"
   ]
  },
  {
   "cell_type": "code",
   "execution_count": 13,
   "id": "ccda0624",
   "metadata": {
    "tags": []
   },
   "outputs": [],
   "source": [
    "def tokenize_and_align_labels(examples, label_inputs, tokenizer):\n",
    "    batch_size = len(examples)\n",
    "    text = [example[\"tokens\"] for example in examples]\n",
    "    tokenized_inputs = tokenizer(text, \n",
    "                                 padding=\"longest\", truncation=True, return_tensors=\"pt\",\n",
    "                                 is_split_into_words=True)\n",
    "    labels = []\n",
    "    for i in range(len(examples)):\n",
    "        label = examples[i][\"classes\"]\n",
    "        word_ids = tokenized_inputs.word_ids(batch_index = i)  # Map tokens to their respective word.\n",
    "        previous_word_idx = None\n",
    "        label_ids = []\n",
    "        for word_idx in word_ids:  # Set the special tokens to -100.\n",
    "            if word_idx is None:\n",
    "                label_ids.append(-100)\n",
    "            elif word_idx != previous_word_idx:  # Only label the first token of a given word.\n",
    "                label_ids.append(label[word_idx])\n",
    "            else:\n",
    "                label_ids.append(-100)\n",
    "            previous_word_idx = word_idx\n",
    "        labels.append(label_ids)\n",
    "    labels = torch.tensor(labels)\n",
    "    \n",
    "    tokenized_inputs[\"labels\"] = labels\n",
    "    tokenized_inputs[\"label_inputs\"] = label_inputs\n",
    "    return tokenized_inputs"
   ]
  },
  {
   "cell_type": "markdown",
   "id": "3b6b82e6",
   "metadata": {},
   "source": [
    "## 1.2 Running multiple training on token classification task"
   ]
  },
  {
   "cell_type": "code",
   "execution_count": 14,
   "id": "5f06281c",
   "metadata": {},
   "outputs": [],
   "source": [
    "os.environ[\"TOKENIZERS_PARALLELISM\"] = \"false\""
   ]
  },
  {
   "cell_type": "code",
   "execution_count": 15,
   "id": "58d5eff8",
   "metadata": {
    "tags": []
   },
   "outputs": [],
   "source": [
    "val_dataloader = DataLoader(\n",
    "    val_ds, \n",
    "    batch_size=24, \n",
    "    shuffle=False, \n",
    "    collate_fn=functools.partial(tokenize_and_align_labels, label_inputs=label_inputs, tokenizer=tokenizer)\n",
    ")\n",
    "#next(iter(val_dataloader))\n",
    "test_dataloader = DataLoader(\n",
    "    test_ds,\n",
    "    batch_size=24,\n",
    "    shuffle=False,\n",
    "    collate_fn=functools.partial(tokenize_and_align_labels, label_inputs=label_inputs, tokenizer=tokenizer)\n",
    ")"
   ]
  },
  {
   "cell_type": "code",
   "execution_count": null,
   "id": "cc1efa6d",
   "metadata": {},
   "outputs": [],
   "source": [
    "seeds = [10, 100, 1000, 10000, 100000, 12, 123, 1234, 12345, 123456]\n",
    "for rep in range(len(seeds)):\n",
    "    torch.manual_seed(seeds[rep])\n",
    "    train_dataloader = DataLoader(\n",
    "        train_ds, \n",
    "        batch_size=24, \n",
    "        shuffle=True, \n",
    "        num_workers = 8,\n",
    "        collate_fn=functools.partial(tokenize_and_align_labels, label_inputs=label_inputs, tokenizer=tokenizer)\n",
    "    )\n",
    "    camembert_tok = LightningModel(model_name = 'LESA_BertForTokClassif', optim=\"AdamW\", lr=3e-5, weight_decay=0.01)\n",
    "    model_checkpoint = pl.callbacks.ModelCheckpoint(#dirpath = '../checkpoints/lesa_bert_camembert_tok',\n",
    "                                                    dirpath = '../checkpoints/lesa_bert_camembert_tok_blind',\n",
    "                                                    monitor=\"valid/f1\", mode=\"max\")\n",
    "\n",
    "    camembert_tok_trainer = pl.Trainer(\n",
    "        callbacks=[\n",
    "            pl.callbacks.EarlyStopping(monitor=\"valid/f1\", patience=4, mode=\"max\"),\n",
    "            model_checkpoint,\n",
    "        ]\n",
    "    )\n",
    "    camembert_tok_trainer.fit(camembert_tok, train_dataloaders=train_dataloader, val_dataloaders=val_dataloader)"
   ]
  },
  {
   "cell_type": "markdown",
   "id": "df926478-f97e-4b6d-a2b2-e6969a120e36",
   "metadata": {},
   "source": [
    "# 2. Testing the model"
   ]
  },
  {
   "cell_type": "code",
   "execution_count": 17,
   "id": "9e4cd8d3",
   "metadata": {},
   "outputs": [
    {
     "name": "stderr",
     "output_type": "stream",
     "text": [
      "GPU available: True (cuda), used: True\n",
      "TPU available: False, using: 0 TPU cores\n",
      "IPU available: False, using: 0 IPUs\n",
      "HPU available: False, using: 0 HPUs\n"
     ]
    }
   ],
   "source": [
    "label_names = ['O', 'Cp', 'FC', 'D', 'SO2', 'AGPR', 'G', 'CI']\n",
    "nb_labels = len(label_names)\n",
    "\n",
    "prediction_trainer = pl.Trainer(\n",
    ")"
   ]
  },
  {
   "cell_type": "code",
   "execution_count": 18,
   "id": "61a28c04-8a56-4fd9-aa80-7277f89e9415",
   "metadata": {
    "tags": []
   },
   "outputs": [],
   "source": [
    "f1_scores=[]"
   ]
  },
  {
   "cell_type": "code",
   "execution_count": null,
   "id": "bf256bc3-ecc3-40fd-bfb7-9463c6606b5a",
   "metadata": {
    "tags": []
   },
   "outputs": [],
   "source": [
    "import os\n",
    "\n",
    "path = '../checkpoints/lesa_bert_camembert_tok_blind'\n",
    "#path = '../checkpoints/lesa_bert_camembert_tok'\n",
    "\n",
    "for filename in os.listdir(path):    \n",
    "    checkpoint_path = os.path.join(path, filename)\n",
    "    camembert_tok_classifier = LightningModel.load_from_checkpoint(checkpoint_path= checkpoint_path)\n",
    "    camembert_preds = prediction_trainer.predict(camembert_tok_classifier, dataloaders=test_dataloader)\n",
    "    camembert_preds = [batch_preds.view(-1) for batch_preds in camembert_preds]\n",
    "    camembert_preds = torch.cat(camembert_preds, -1)\n",
    "    # collecting the labels\n",
    "    labels = []\n",
    "    it = iter(test_dataloader)\n",
    "    exit = False\n",
    "    while not exit:\n",
    "        try:\n",
    "            # Samples the batch\n",
    "            tokenized_batch = next(it)\n",
    "            label = tokenized_batch['labels']\n",
    "            labels.append(label.view(-1))\n",
    "        except StopIteration:\n",
    "            exit = True\n",
    "    labels = torch.cat(labels, -1)\n",
    "    \n",
    "    f1_score = custom_f1_score(labels, camembert_preds, num_labels, average= None)\n",
    "    f1_scores.append(f1_score)\n",
    "f1_scores = np.array(f1_scores)\n",
    "    "
   ]
  },
  {
   "cell_type": "code",
   "execution_count": null,
   "id": "161da2fb-c0d4-4aa5-b7b3-261bf7642eb4",
   "metadata": {
    "tags": []
   },
   "outputs": [],
   "source": [
    "## blind dataset\n",
    "average, std = stats(f1_scores)\n",
    "average"
   ]
  },
  {
   "cell_type": "code",
   "execution_count": null,
   "id": "37787a01",
   "metadata": {},
   "outputs": [],
   "source": [
    "std"
   ]
  },
  {
   "cell_type": "markdown",
   "id": "3e5d3b68-b8cd-44c7-a216-4b16e10abe61",
   "metadata": {},
   "source": [
    "## Some illustrations"
   ]
  },
  {
   "cell_type": "code",
   "execution_count": 11,
   "id": "b9fcb553",
   "metadata": {
    "tags": []
   },
   "outputs": [],
   "source": [
    "def get_extended_attention_mask(attention_mask):\n",
    "    # Provided a padding mask of dimensions [batch_size, seq_length]\n",
    "    # - if the model is an encoder, make the mask broadcastable to [batch_size, num_heads, seq_length, seq_length]\n",
    "    extended_attention_mask = attention_mask[:, None, None, :]\n",
    "    # Since attention_mask is 1.0 for positions we want to attend and 0.0 for\n",
    "    # masked positions, this operation will create a tensor which is 0.0 for\n",
    "    # positions we want to attend and the dtype's smallest value for masked positions.\n",
    "    # Since we are adding it to the raw scores before the softmax, this is\n",
    "    # effectively the same as removing these entirely.\n",
    "    extended_attention_mask = extended_attention_mask.to(dtype=torch.float)  # fp16 compatibility\n",
    "    extended_attention_mask = (1.0 - extended_attention_mask) * torch.finfo(torch.float).min\n",
    "    return extended_attention_mask"
   ]
  },
  {
   "cell_type": "code",
   "execution_count": 18,
   "id": "1e19696d-0e07-49c3-8ece-595fa4bc98c4",
   "metadata": {
    "tags": []
   },
   "outputs": [],
   "source": [
    "#selection of the batch\n",
    "it = iter(test_dataloader)\n",
    "tokenized_batch = next(it)"
   ]
  },
  {
   "cell_type": "code",
   "execution_count": 23,
   "id": "d0101d3d",
   "metadata": {},
   "outputs": [
    {
     "name": "stderr",
     "output_type": "stream",
     "text": [
      "Some weights of the model checkpoint at ../camembert-bio-model were not used when initializing CamembertForTokenClassification_label: ['lm_head.dense.bias', 'lm_head.bias', 'lm_head.dense.weight', 'lm_head.layer_norm.bias', 'lm_head.layer_norm.weight']\n",
      "- This IS expected if you are initializing CamembertForTokenClassification_label from the checkpoint of a model trained on another task or with another architecture (e.g. initializing a BertForSequenceClassification model from a BertForPreTraining model).\n",
      "- This IS NOT expected if you are initializing CamembertForTokenClassification_label from the checkpoint of a model that you expect to be exactly identical (initializing a BertForSequenceClassification model from a BertForSequenceClassification model).\n",
      "Some weights of CamembertForTokenClassification_label were not initialized from the model checkpoint at ../camembert-bio-model and are newly initialized: ['classifier.bias', 'classifier.weight', 'layer_norm.bias', 'layer_norm.weight']\n",
      "You should probably TRAIN this model on a down-stream task to be able to use it for predictions and inference.\n"
     ]
    }
   ],
   "source": [
    "checkpoint_path = '../checkpoints/lesa_bert_camembert_tok/epoch=0-step=74.ckpt'\n",
    "\n",
    "camembert_tok = LightningModel.load_from_checkpoint(checkpoint_path= checkpoint_path).cuda()"
   ]
  },
  {
   "cell_type": "code",
   "execution_count": 24,
   "id": "e01210c3",
   "metadata": {
    "tags": []
   },
   "outputs": [],
   "source": [
    "camembert_tok.eval()\n",
    "model_output = camembert_tok.model.roberta(\n",
    "            input_ids = tokenized_batch[\"input_ids\"].cuda(),\n",
    "            label_inputs = tokenized_batch['label_inputs'].cuda(),\n",
    "            attention_mask = tokenized_batch[\"attention_mask\"].cuda(),\n",
    "            output_hidden_states=True\n",
    ")\n",
    "sentences = decode_properly(tokenized_batch[\"input_ids\"], tokenizer)"
   ]
  },
  {
   "cell_type": "code",
   "execution_count": 25,
   "id": "25e7ec61",
   "metadata": {
    "tags": []
   },
   "outputs": [],
   "source": [
    "key_padding_mask = tokenized_batch['attention_mask'].type(torch.float)"
   ]
  },
  {
   "cell_type": "code",
   "execution_count": 26,
   "id": "5ed625a8",
   "metadata": {
    "tags": []
   },
   "outputs": [],
   "source": [
    "key_padding_mask = get_extended_attention_mask(key_padding_mask)"
   ]
  },
  {
   "cell_type": "code",
   "execution_count": 27,
   "id": "10d4040d",
   "metadata": {
    "tags": []
   },
   "outputs": [],
   "source": [
    "layer_id = 11\n",
    "sentence_id = 1"
   ]
  },
  {
   "cell_type": "code",
   "execution_count": 29,
   "id": "c5aa91df",
   "metadata": {
    "tags": []
   },
   "outputs": [],
   "source": [
    "entry_layer, entry_label_embeddings = model_output[\"hidden_states\"][layer_id]"
   ]
  },
  {
   "cell_type": "code",
   "execution_count": 30,
   "id": "4965c9e8",
   "metadata": {
    "tags": []
   },
   "outputs": [],
   "source": [
    "_, (attn_output_weights, _, _, _) = camembert_tok.model.roberta.encoder.layer[layer_id].attention.self(\n",
    "                                    entry_layer,\n",
    "                                    attention_mask= key_padding_mask.cuda(), \n",
    "                                    output_attentions=True,\n",
    "                                    label_embeddings=entry_label_embeddings,)"
   ]
  },
  {
   "cell_type": "code",
   "execution_count": 32,
   "id": "138d1267",
   "metadata": {
    "tags": []
   },
   "outputs": [],
   "source": [
    "head_id = 4\n",
    "attn_output_weights_visual = attn_output_weights[sentence_id, head_id, :12, :12].detach().cpu().numpy()\n",
    "token_names = tokenizer.convert_ids_to_tokens(tokenized_batch[\"input_ids\"][sentence_id][:12])"
   ]
  },
  {
   "cell_type": "markdown",
   "id": "586ed679",
   "metadata": {},
   "source": [
    "Now the self attention"
   ]
  },
  {
   "cell_type": "code",
   "execution_count": 104,
   "id": "c6129696",
   "metadata": {
    "tags": []
   },
   "outputs": [
    {
     "data": {
      "text/plain": [
       "<Axes: >"
      ]
     },
     "execution_count": 104,
     "metadata": {},
     "output_type": "execute_result"
    },
    {
     "data": {
      "image/png": "[encoded data removed]",
      "text/plain": [
       "<Figure size 800x800 with 1 Axes>"
      ]
     },
     "metadata": {},
     "output_type": "display_data"
    }
   ],
   "source": [
    "plt.figure(figsize=(8, 8))\n",
    "sns.heatmap(\n",
    "        attn_output_weights_visual,\n",
    "        annot = False, \n",
    "        cbar=False,\n",
    "        #fmt=\"d\",\n",
    "        xticklabels=token_names,\n",
    "        yticklabels=token_names,\n",
    "        cmap=\"viridis\"\n",
    ")    "
   ]
  }
 ],
 "metadata": {
  "kernelspec": {
   "display_name": "Python 3 (ipykernel)",
   "language": "python",
   "name": "python3"
  },
  "language_info": {
   "codemirror_mode": {
    "name": "ipython",
    "version": 3
   },
   "file_extension": ".py",
   "mimetype": "text/x-python",
   "name": "python",
   "nbconvert_exporter": "python",
   "pygments_lexer": "ipython3",
   "version": "3.13.2"
  }
 },
 "nbformat": 4,
 "nbformat_minor": 5
}
